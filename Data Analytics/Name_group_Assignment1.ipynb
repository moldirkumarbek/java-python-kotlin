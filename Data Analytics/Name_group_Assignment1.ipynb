{
 "cells": [
  {
   "cell_type": "markdown",
   "metadata": {},
   "source": [
    "# IDA: Assignment 1\n",
    "\n",
    "### Deadline: September 24 (until 23:59)\n",
    "\n",
    "\n",
    "**Instructions:** All answers should be provided in the notebook and then submitted to Moodle. Name of notebook should be in following format:\n",
    " - Name_group_Assignment1.ipynb (ex. Harry_Potter_2009_Assignment1.ipynb). PLEASE, use exactly the **same format.**\n",
    " - Try to use fewer cells for compilation (for example, you can use print for several answers, instead of printing each answer on a separate cell)\n",
    " - **PLEASE:** submit only one jupyter notebook (no zip or csv files) and with your names as in the instruction. Ohterwise, there will be punishment of 30% from your assignment mark.\n",
    " - **IMPORTANT NOTE:** you will get points only for correct answers, not for trials or wrong answers. Your notebook should run when we press **\"Restart Kernel\"** and then press **\"Run All\"**. We are going to check answers only after doing that. If your code do not compile and stops at any question, you will get zero for that question."
   ]
  },
  {
   "cell_type": "markdown",
   "metadata": {},
   "source": [
    "## Q1 (10%)\n",
    "Convert the string below to a list."
   ]
  },
  {
   "cell_type": "code",
   "execution_count": 1,
   "metadata": {},
   "outputs": [],
   "source": [
    "list_q1 = \"['bahandi','kfc', 'mcdonalds', 'salambro','hardees', 'burgerking', 'wendys']\""
   ]
  },
  {
   "cell_type": "code",
   "execution_count": 2,
   "metadata": {},
   "outputs": [],
   "source": [
    "# your code here"
   ]
  },
  {
   "cell_type": "markdown",
   "metadata": {},
   "source": [
    "## Q2 (10%)\n",
    "Create a random list of one hundred 3 digit numbers with some selected seed. Save that list in variable list_q2. Then print elements, which are divisible by their corresponding index's last digit. Ignore index zero.\n",
    "\n",
    "***Hints:*** use library random."
   ]
  },
  {
   "cell_type": "code",
   "execution_count": 3,
   "metadata": {},
   "outputs": [],
   "source": [
    "# your code here"
   ]
  },
  {
   "cell_type": "markdown",
   "metadata": {},
   "source": [
    "## Q3 (10%)\n",
    "Write a function that calculates the Euclidean distance between two n-dimensional points. The function should take two lists as arguments, where each list contains the n coordinates of each of the two points. \n",
    "\n",
    "If input parameters have the different size, your function should raise an error or warning.\n",
    "\n",
    "Test your function for the points [0, 3, 0] and [4, 0, 0].\n",
    "\n",
    "***Hints:*** You can read about the definition of Euclidean distance on [Wikipedia](https://en.wikipedia.org/wiki/Euclidean_distance)."
   ]
  },
  {
   "cell_type": "code",
   "execution_count": 4,
   "metadata": {},
   "outputs": [],
   "source": [
    "# your code here"
   ]
  },
  {
   "cell_type": "markdown",
   "metadata": {},
   "source": [
    "## Q4 (10%)\n",
    "Write a function that estimates the centroid of a collection of n-dimensional points. The function should take one list as an argument, which contains each of the points entered as a list of n coordinates. The function should return a list with the coordinates of the virtual center point.\n",
    "\n",
    "Test your function for the points in `test_q4` entered below.\n",
    "\n",
    "***Hints:***  The coordinate of the centroid in each dimension is the mean of the coordinates of all the points in that dimension. Also, you might need some other libraries to calculate mean."
   ]
  },
  {
   "cell_type": "code",
   "execution_count": 5,
   "metadata": {},
   "outputs": [],
   "source": [
    "test_q4 = [[0,0,0], [0,0,1], [0,1,0], [1,0,0], \n",
    "           [0,1,1], [1,0,1], [1,1,0], [1,1,1]]"
   ]
  },
  {
   "cell_type": "code",
   "execution_count": 6,
   "metadata": {},
   "outputs": [],
   "source": [
    "# your code here"
   ]
  },
  {
   "cell_type": "markdown",
   "metadata": {},
   "source": [
    "## Q5 (30%)\n",
    "Write a function that takes a list as an input and allocates its elements to different list depending on their datatypes. There should be separate list for strings, booleans, float, but for integers there should seperate lists based on number of digits in the list. Also, lists should be ordered in ascending order.\n",
    "\n",
    "For example, if you have `test_q5` as input, your function should return a result as following:\n",
    "\n",
    "[['dog', 'hot'], [False, True], [4.5, 9.8], [1, 2, 3], [10, 12, 15, 19]]\n",
    "\n",
    "***Note:*** make sure you get a list of lists with different data types, having strings list first, then booleans, floats, and integers. Also, each internal list should be ordered in ascending order. Also, keep in mind that there can be integers of any size. "
   ]
  },
  {
   "cell_type": "code",
   "execution_count": 7,
   "metadata": {},
   "outputs": [],
   "source": [
    "list_5 = [9.8, 3,1,2, 4.5, 12, 15, 10, 19, 'hot', 'dog',  True, False]"
   ]
  },
  {
   "cell_type": "code",
   "execution_count": 8,
   "metadata": {},
   "outputs": [],
   "source": [
    "# your code here"
   ]
  },
  {
   "cell_type": "markdown",
   "metadata": {},
   "source": [
    "## Q6 (30%)\n",
    "Write a universal function that calculates an area of the triangle based on different methods of calculation. Design your function as following:\n",
    "1. It should take several parameters: method,a,b,c,h,angle,r,R (a,b,c - triangle sides, angle - angle between two sides, r - inner circle radius, R - outer circle radius). \n",
    "2. Depending on the method it should look for necessary parameters. If for the selected method there is not enough parameters provided, it should raise some warning or error. If for the selected method there is more parameters provided than needed, just use only those that are needed (it is ok).\n",
    "3. In your solution decide which parameters always needs to be provided, and which are not always necessary. \n",
    "\n",
    "*Use following triangle area calculation methods:* https://www.webmath.ru/poleznoe/formules8.php\n",
    "\n",
    "*Use the following method names:*\n",
    "* with height\n",
    "* with angle\n",
    "* inner radius\n",
    "* outer radius \n",
    "* heron\n",
    "\n",
    "***Note:*** you should not use libraries with predefined triangle area formulas."
   ]
  },
  {
   "cell_type": "code",
   "execution_count": 9,
   "metadata": {},
   "outputs": [],
   "source": [
    "# your code here"
   ]
  },
  {
   "cell_type": "markdown",
   "metadata": {},
   "source": [
    "---\n",
    "\n",
    "### Evaluation (Keep it!)\n",
    "\n",
    "| Question | Mark     | Comment   \n",
    "|:-------:|:--------:|:----------------------\n",
    "| 1       |   10/10    |     \n",
    "| 2       |   10/10     | \n",
    "| 3       |   10/10     | \n",
    "| 4       |   10/10     | \n",
    "| 5       |   30/30   | \n",
    "| 6       |   30/30    | \n",
    "|**Total**|**100/100**  | \n"
   ]
  }
 ],
 "metadata": {
  "kernelspec": {
   "display_name": "Python 3",
   "language": "python",
   "name": "python3"
  },
  "language_info": {
   "codemirror_mode": {
    "name": "ipython",
    "version": 3
   },
   "file_extension": ".py",
   "mimetype": "text/x-python",
   "name": "python",
   "nbconvert_exporter": "python",
   "pygments_lexer": "ipython3",
   "version": "3.8.8"
  }
 },
 "nbformat": 4,
 "nbformat_minor": 4
}
