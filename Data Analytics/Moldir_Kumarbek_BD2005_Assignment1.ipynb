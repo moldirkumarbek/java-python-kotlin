{
 "cells": [
  {
   "cell_type": "markdown",
   "metadata": {
    "tags": []
   },
   "source": [
    "## Q1 (10%)\n",
    "Convert the string below to a list."
   ]
  },
  {
   "cell_type": "code",
   "execution_count": null,
   "metadata": {},
   "outputs": [],
   "source": [
    "list_q1 = \"['bahandi','kfc', 'mcdonalds', 'salambro','hardees', 'burgerking', 'wendys']\""
   ]
  },
  {
   "cell_type": "code",
   "execution_count": 22,
   "metadata": {},
   "outputs": [],
   "source": [
    "# your code here\n",
    "# result = []\n",
    "\n",
    "# def extract_string(string):\n",
    "#     string_ = string\n",
    "#     start = string_.index(\"'\") + 1\n",
    "#     end = string_[start:].index(\"'\")\n",
    "#     offset = start\n",
    "# #     print(f\"strat: {start}\")\n",
    "# #     print(f\"end: {end}\")\n",
    "#     print(\"result: \", string_[start:end + offset])\n",
    "\n",
    "# extract_string(list_q1)\n",
    "\n",
    "# print(result)"
   ]
  },
  {
   "cell_type": "code",
   "execution_count": 23,
   "metadata": {},
   "outputs": [
    {
     "name": "stdout",
     "output_type": "stream",
     "text": [
      "['bahandi', 'kfc', 'mcdonalds', 'salambro', 'hardees', 'burgerking', 'wendys']\n"
     ]
    }
   ],
   "source": [
    "# your code here\n",
    "new_list_q1 = eval(list_q1)\n",
    "print(new_list_q1)"
   ]
  },
  {
   "cell_type": "markdown",
   "metadata": {},
   "source": [
    "## Q2 (10%)\n",
    "Create a random list of one hundred 3 digit numbers with some selected seed. Save that list in variable list_q2. Then print elements, which are divisible by their corresponding index's last digit. Ignore index zero.\n",
    "\n",
    "***Hints:*** use library random."
   ]
  },
  {
   "cell_type": "code",
   "execution_count": 1,
   "metadata": {},
   "outputs": [
    {
     "name": "stdout",
     "output_type": "stream",
     "text": [
      "899\n",
      "896\n",
      "774\n",
      "203\n",
      "135\n",
      "176\n",
      "549\n",
      "635\n",
      "641\n",
      "198\n",
      "547\n",
      "572\n",
      "984\n",
      "926\n",
      "829\n",
      "180\n",
      "166\n",
      "412\n",
      "956\n",
      "933\n",
      "762\n",
      "409\n",
      "426\n",
      "536\n",
      "291\n",
      "390\n",
      "464\n",
      "296\n",
      "638\n",
      "252\n",
      "288\n",
      "940\n",
      "408\n",
      "990\n",
      "156\n"
     ]
    }
   ],
   "source": [
    "# your code here\n",
    "import random\n",
    "list_q2 = random.sample(range(100,999),100)\n",
    "for index, value in enumerate(list_q2):\n",
    "    if index != 0:\n",
    "        last_digit = int(str(index)[-1])\n",
    "        if last_digit == 0 or value % last_digit == 0:\n",
    "            print(value)"
   ]
  },
  {
   "cell_type": "markdown",
   "metadata": {},
   "source": [
    "## Q3 (10%)\n",
    "Write a function that calculates the Euclidean distance between two n-dimensional points. The function should take two lists as arguments, where each list contains the n coordinates of each of the two points. \n",
    "\n",
    "If input parameters have the different size, your function should raise an error or warning.\n",
    "\n",
    "Test your function for the points [0, 3, 0] and [4, 0, 0].\n",
    "\n",
    "***Hints:*** You can read about the definition of Euclidean distance on [Wikipedia](https://en.wikipedia.org/wiki/Euclidean_distance)."
   ]
  },
  {
   "cell_type": "code",
   "execution_count": 44,
   "metadata": {},
   "outputs": [
    {
     "data": {
      "text/plain": [
       "5.0"
      ]
     },
     "execution_count": 44,
     "metadata": {},
     "output_type": "execute_result"
    }
   ],
   "source": [
    "# # # your code here\n",
    "def euclidean_distance(coor_3d_point1,coor_3d_point2):\n",
    "    if len(coor_3d_point1) != len(coor_3d_point2):\n",
    "        raise Exception(\"Parameters have the different size!\")\n",
    "    \n",
    "    result = 0\n",
    "    for i in range(len(coor_3d_point2)):\n",
    "        result += (coor_3d_point1[i] - coor_3d_point2[i])**2\n",
    "        \n",
    "    return result ** (1/2)\n",
    "    \n",
    "euclidean_distance([0,3,0], [4,0,0])\n"
   ]
  },
  {
   "cell_type": "markdown",
   "metadata": {},
   "source": [
    "## Q4 (10%)\n",
    "Write a function that estimates the centroid of a collection of n-dimensional points. The function should take one list as an argument, which contains each of the points entered as a list of n coordinates. The function should return a list with the coordinates of the virtual center point.\n",
    "\n",
    "Test your function for the points in `test_q4` entered below.\n",
    "\n",
    "***Hints:***  The coordinate of the centroid in each dimension is the mean of the coordinates of all the points in that dimension. Also, you might need some other libraries to calculate mean."
   ]
  },
  {
   "cell_type": "code",
   "execution_count": 48,
   "metadata": {},
   "outputs": [],
   "source": [
    "test_q4 = [[0,0,0], [0,0,1], [0,1,0], [1,0,0], \n",
    "           [0,1,1], [1,0,1], [1,1,0], [1,1,1]]"
   ]
  },
  {
   "cell_type": "code",
   "execution_count": 56,
   "metadata": {},
   "outputs": [
    {
     "data": {
      "text/plain": [
       "[0.0,\n",
       " 0.3333333333333333,\n",
       " 0.3333333333333333,\n",
       " 0.3333333333333333,\n",
       " 0.6666666666666666,\n",
       " 0.6666666666666666,\n",
       " 0.6666666666666666,\n",
       " 1.0]"
      ]
     },
     "execution_count": 56,
     "metadata": {},
     "output_type": "execute_result"
    }
   ],
   "source": [
    "# your code here\n",
    "def get_centroid(points):\n",
    "    result = []\n",
    "    for point in points:\n",
    "        result.append(sum(point) / len(point))\n",
    "        \n",
    "    return result\n",
    "        \n",
    "get_centroid(test_q4)\n",
    "    "
   ]
  },
  {
   "cell_type": "markdown",
   "metadata": {},
   "source": [
    "## Q5 (30%)\n",
    "Write a function that takes a list as an input and allocates its elements to different list depending on their datatypes. There should be separate list for strings, booleans, float, but for integers there should seperate lists based on number of digits in the list. Also, lists should be ordered in ascending order.\n",
    "\n",
    "For example, if you have `test_q5` as input, your function should return a result as following:\n",
    "\n",
    "[['dog', 'hot'], [False, True], [4.5, 9.8], [1, 2, 3], [10, 12, 15, 19]]\n",
    "\n",
    "***Note:*** make sure you get a list of lists with different data types, having strings list first, then booleans, floats, and integers. Also, each internal list should be ordered in ascending order. Also, keep in mind that there can be integers of any size. "
   ]
  },
  {
   "cell_type": "code",
   "execution_count": 58,
   "metadata": {},
   "outputs": [],
   "source": [
    "list_5 = [9.8, 3,1,2, 4.5, 12, 15, 10, 19, 'hot', 'dog',  True, False]"
   ]
  },
  {
   "cell_type": "code",
   "execution_count": 72,
   "metadata": {},
   "outputs": [
    {
     "data": {
      "text/plain": [
       "[['dog', 'hot'], [False, True], [4.5, 9.8], [1, 2, 3], [10, 12, 15, 19]]"
      ]
     },
     "execution_count": 72,
     "metadata": {},
     "output_type": "execute_result"
    }
   ],
   "source": [
    "# your code here\n",
    "def order(list_):\n",
    "    str_list = []\n",
    "    bool_list = []\n",
    "    float_list = []\n",
    "    int_list = []\n",
    "    \n",
    "    for item in list_:\n",
    "        if type(item) is str:\n",
    "            str_list.append(item)\n",
    "        if type(item) is bool:\n",
    "            bool_list.append(item)\n",
    "        if type(item) is float:\n",
    "            float_list.append(item)\n",
    "        if type(item) is int:\n",
    "            int_list.append(item)\n",
    "    \n",
    "    str_list = sorted(str_list)\n",
    "    bool_list = sorted(bool_list)\n",
    "    float_list = sorted(float_list)\n",
    "    \n",
    "    digit_lists = {}\n",
    "    for number in int_list:\n",
    "        \n",
    "        if digit_lists.get(len(str(number))):\n",
    "            digit_lists[len(str(number))].append(number)\n",
    "        else:\n",
    "            digit_lists[len(str(number))] = [number]\n",
    "    \n",
    "    result = [str_list,bool_list,float_list]\n",
    "    \n",
    "    \n",
    "    for digit_list in digit_lists.values():\n",
    "        result.append(sorted(digit_list))\n",
    "    \n",
    "    return result\n",
    "    \n",
    "            \n",
    "order(list_5)           "
   ]
  },
  {
   "cell_type": "markdown",
   "metadata": {},
   "source": [
    "## Q6 (30%)\n",
    "Write a universal function that calculates an area of the triangle based on different methods of calculation. Design your function as following:\n",
    "1. It should take several parameters: method,a,b,c,h,angle,r,R (a,b,c - triangle sides, angle - angle between two sides, r - inner circle radius, R - outer circle radius). \n",
    "2. Depending on the method it should look for necessary parameters. If for the selected method there is not enough parameters provided, it should raise some warning or error. If for the selected method there is more parameters provided than needed, just use only those that are needed (it is ok).\n",
    "3. In your solution decide which parameters always needs to be provided, and which are not always necessary. \n",
    "\n",
    "*Use following triangle area calculation methods:* https://www.webmath.ru/poleznoe/formules8.php\n",
    "\n",
    "*Use the following method names:*\n",
    "* with height\n",
    "* with angle\n",
    "* inner radius\n",
    "* outer radius \n",
    "* heron\n",
    "\n",
    "***Note:*** you should not use libraries with predefined triangle area formulas."
   ]
  },
  {
   "cell_type": "code",
   "execution_count": 94,
   "metadata": {},
   "outputs": [
    {
     "data": {
      "text/plain": [
       "20.0"
      ]
     },
     "execution_count": 94,
     "metadata": {},
     "output_type": "execute_result"
    }
   ],
   "source": [
    "def triangle_area(**kv):\n",
    "    method = kv.get('method')\n",
    "    a = kv.get('a')\n",
    "    b = kv.get('b')\n",
    "    c = kv.get('c')\n",
    "    h = kv.get('h')\n",
    "    angle = kv.get('angle')\n",
    "    r = kv.get('r')\n",
    "    R = kv.get('R')\n",
    "    \n",
    "    \n",
    "    if method == 'with height':\n",
    "        if (not a) or (not h):\n",
    "            raise Exception(\"For the selected method there is not enough parameters provided!\")\n",
    "        else:\n",
    "            return a*h / 2\n",
    "    \n",
    "    if method == 'with angle':\n",
    "        if (not a) or (not b) or (not angle):\n",
    "            raise Exception(\"For the selected method there is not enough parameters provided!\")\n",
    "        else:\n",
    "            import math\n",
    "            return a*b*math.sin(angle)* 0.5\n",
    "        \n",
    "    if method == 'inner radius':\n",
    "        if (not r) or (not a) or (not b) or (not c):\n",
    "            raise Exception(\"For the selected method there is not enough parameters provided!\")\n",
    "        else:\n",
    "            return r * ((a+b+c) / 2)\n",
    "        \n",
    "    if method == 'outer radius':\n",
    "        if (not R) or (not a) or (not b) or (not c):\n",
    "            raise Exception(\"For the selected method there is not enough parameters provided!\")\n",
    "        else:\n",
    "            return a*b*c / (4 * R) \n",
    "        \n",
    "        \n",
    "    if method == 'heron':\n",
    "        if (not a) or (not b) or (not c):\n",
    "            raise Exception(\"For the selected method there is not enough parameters provided!\")\n",
    "        else:\n",
    "            p = (a+b+c) / 2\n",
    "            return (p * (p-a) * (p-b) * (p-c) ) ** 0.5\n",
    "        \n",
    "    if not method:\n",
    "        if a:\n",
    "            if h:\n",
    "                return a*h / 2\n",
    "            if b:\n",
    "                if angle:\n",
    "                    import math\n",
    "                    return a*b*math.sin(angle)* 0.5 \n",
    "                if c:\n",
    "                    p = (a+b+c) / 2\n",
    "                    return (p * (p-a) * (p-b) * (p-c) ) ** 0.5\n",
    "                \n",
    "                if (not angle) and (not c):\n",
    "                    raise Exception(\"For the selected method there is not enough parameters provided!\")\n",
    "            \n",
    "            if (not h) and (not b):\n",
    "                    raise Exception(\"For the selected method there is not enough parameters provided!\")\n",
    "                    \n",
    "        else:\n",
    "            raise Exception(\"For the selected method there is not enough parameters provided!\")\n",
    "        \n",
    "\n",
    "# triangle_area(method ='inner radius', r = 5 , a = 3 , b = 8 , c = 5)\n",
    "triangle_area(a = 8 , h = 5)"
   ]
  },
  {
   "cell_type": "markdown",
   "metadata": {},
   "source": [
    "---\n",
    "\n",
    "### Evaluation (Keep it!)\n",
    "\n",
    "| Question | Mark     | Comment   \n",
    "|:-------:|:--------:|:----------------------\n",
    "| 1       |   10/10    |     \n",
    "| 2       |   10/10     | \n",
    "| 3       |   10/10     | \n",
    "| 4       |   10/10     | \n",
    "| 5       |   30/30   | \n",
    "| 6       |   30/30    | \n",
    "|**Total**|**100/100**  | \n"
   ]
  },
  {
   "cell_type": "markdown",
   "metadata": {},
   "source": [
    "# IDA: Assignment 1\n",
    "\n",
    "### Deadline: September 24 (until 23:59)\n",
    "\n",
    "\n",
    "**Instructions:** All answers should be provided in the notebook and then submitted to Moodle. Name of notebook should be in following format:\n",
    " - Name_group_Assignment1.ipynb (ex. Harry_Potter_2009_Assignment1.ipynb). PLEASE, use exactly the **same format.**\n",
    " - Try to use fewer cells for compilation (for example, you can use print for several answers, instead of printing each answer on a separate cell)\n",
    " - **PLEASE:** submit only one jupyter notebook (no zip or csv files) and with your names as in the instruction. Ohterwise, there will be punishment of 30% from your assignment mark.\n",
    " - **IMPORTANT NOTE:** you will get points only for correct answers, not for trials or wrong answers. Your notebook should run when we press **\"Restart Kernel\"** and then press **\"Run All\"**. We are going to check answers only after doing that. If your code do not compile and stops at any question, you will get zero for that question."
   ]
  }
 ],
 "metadata": {
  "kernelspec": {
   "display_name": "Python 3",
   "language": "python",
   "name": "python3"
  },
  "language_info": {
   "codemirror_mode": {
    "name": "ipython",
    "version": 3
   },
   "file_extension": ".py",
   "mimetype": "text/x-python",
   "name": "python",
   "nbconvert_exporter": "python",
   "pygments_lexer": "ipython3",
   "version": "3.8.8"
  }
 },
 "nbformat": 4,
 "nbformat_minor": 4
}
